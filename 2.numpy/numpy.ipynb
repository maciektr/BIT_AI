{
 "cells": [
  {
   "cell_type": "markdown",
   "metadata": {
    "slideshow": {
     "slide_type": "slide"
    }
   },
   "source": [
    "# NUMPY"
   ]
  },
  {
   "cell_type": "markdown",
   "metadata": {
    "slideshow": {
     "slide_type": "slide"
    }
   },
   "source": [
    "# Array initialization "
   ]
  },
  {
   "cell_type": "code",
   "execution_count": 365,
   "metadata": {
    "slideshow": {
     "slide_type": "fragment"
    }
   },
   "outputs": [
    {
     "name": "stdout",
     "output_type": "stream",
     "text": [
      "[1 2 3]\n",
      "[1. 2. 3.]\n"
     ]
    }
   ],
   "source": [
    "import numpy as np\n",
    "\n",
    "# Uwaga: b jest tablicą liczb zmiennoprzecinkowych, pomimo, że podaliśmy liczby całkowite \n",
    "a = np.array([1,2,3])\n",
    "print(a)\n",
    "b = np.array([1,2,3],dtype=np.float32)\n",
    "print(b)"
   ]
  },
  {
   "cell_type": "markdown",
   "metadata": {
    "slideshow": {
     "slide_type": "subslide"
    }
   },
   "source": [
    "Także możemy przekształcać `list` z python na tablicę numpy:"
   ]
  },
  {
   "cell_type": "code",
   "execution_count": 366,
   "metadata": {
    "slideshow": {
     "slide_type": "fragment"
    }
   },
   "outputs": [
    {
     "name": "stdout",
     "output_type": "stream",
     "text": [
      "<class 'list'>\n",
      "[1 2 3]\n",
      "[1. 2. 3.]\n"
     ]
    }
   ],
   "source": [
    "l = [1,2,3] # także można użyć tuple \n",
    "print(type(l))\n",
    "a = np.array(l)\n",
    "print(a)\n",
    "b = np.array(l, dtype=np.float32)\n",
    "print(b)"
   ]
  },
  {
   "cell_type": "markdown",
   "metadata": {
    "slideshow": {
     "slide_type": "subslide"
    }
   },
   "source": [
    "Możemy też tworzyć tablice wielowymiarowe:"
   ]
  },
  {
   "cell_type": "code",
   "execution_count": 367,
   "metadata": {
    "slideshow": {
     "slide_type": "fragment"
    }
   },
   "outputs": [
    {
     "name": "stdout",
     "output_type": "stream",
     "text": [
      "tablica a: \n",
      "[[1 2 3]\n",
      " [4 5 6]]\n",
      "<class 'numpy.ndarray'>\n",
      "tablica b: \n",
      "[list([1, 2, 3]) list([4, 5])]\n",
      "<class 'list'>\n"
     ]
    }
   ],
   "source": [
    "a = np.array([[1,2,3], [4,5,6]])\n",
    "print(\"tablica a: \")\n",
    "print(a)\n",
    "print(type(a[0]))\n",
    "\n",
    "#Uwaga: wymiary muszą się zgadzać, inaczej numpy potraktuje to jak tablicę python list:\n",
    "b = np.array([[1,2,3], [4,5]])\n",
    "print(\"tablica b: \")\n",
    "print(b)\n",
    "print(type(b[0]))"
   ]
  },
  {
   "cell_type": "markdown",
   "metadata": {
    "slideshow": {
     "slide_type": "subslide"
    }
   },
   "source": [
    "Są też funkcje: `np.ones`, `np.zeros`, `np.eye` i `np.arange`, których używamy do tworzenia tablic wypełnionych jedynkami, zerami, macierz identyczności i liczb z przedzału z odpowiednim krokiem odpowiednio: "
   ]
  },
  {
   "cell_type": "code",
   "execution_count": 368,
   "metadata": {
    "slideshow": {
     "slide_type": "fragment"
    }
   },
   "outputs": [
    {
     "name": "stdout",
     "output_type": "stream",
     "text": [
      "[[0. 0. 0. 0. 0.]\n",
      " [0. 0. 0. 0. 0.]\n",
      " [0. 0. 0. 0. 0.]\n",
      " [0. 0. 0. 0. 0.]] \n",
      "\n",
      "[[1. 0. 0. 0.]\n",
      " [0. 1. 0. 0.]\n",
      " [0. 0. 1. 0.]\n",
      " [0. 0. 0. 1.]] \n",
      "\n",
      "[2.  2.2 2.4 2.6 2.8] \n",
      "\n",
      "[[[1. 1. 1.]\n",
      "  [1. 1. 1.]\n",
      "  [1. 1. 1.]\n",
      "  [1. 1. 1.]\n",
      "  [1. 1. 1.]]\n",
      "\n",
      " [[1. 1. 1.]\n",
      "  [1. 1. 1.]\n",
      "  [1. 1. 1.]\n",
      "  [1. 1. 1.]\n",
      "  [1. 1. 1.]]\n",
      "\n",
      " [[1. 1. 1.]\n",
      "  [1. 1. 1.]\n",
      "  [1. 1. 1.]\n",
      "  [1. 1. 1.]\n",
      "  [1. 1. 1.]]\n",
      "\n",
      " [[1. 1. 1.]\n",
      "  [1. 1. 1.]\n",
      "  [1. 1. 1.]\n",
      "  [1. 1. 1.]\n",
      "  [1. 1. 1.]]]\n"
     ]
    }
   ],
   "source": [
    "a = np.zeros((4,5))\n",
    "print(a, '\\n')\n",
    "\n",
    "b = np.eye(4)\n",
    "print(b, '\\n')\n",
    "\n",
    "r = np.arange(2, 3, 0.2)\n",
    "\n",
    "print(r, '\\n')\n",
    "\n",
    "c = np.ones((4,5,3)) # możemy tworzyć macierze o dowolnych wymiarach\n",
    "print(c) "
   ]
  },
  {
   "cell_type": "markdown",
   "metadata": {
    "slideshow": {
     "slide_type": "slide"
    }
   },
   "source": [
    "# Operacje na tablicach Numpy "
   ]
  },
  {
   "cell_type": "markdown",
   "metadata": {
    "slideshow": {
     "slide_type": "subslide"
    }
   },
   "source": [
    "W numpy możemy wybierać elementy tablicy jak w zwykłej `list` z python:"
   ]
  },
  {
   "cell_type": "code",
   "execution_count": 369,
   "metadata": {
    "slideshow": {
     "slide_type": "fragment"
    }
   },
   "outputs": [
    {
     "name": "stdout",
     "output_type": "stream",
     "text": [
      "[1 2 3]\n",
      "5\n"
     ]
    }
   ],
   "source": [
    "a = np.array([[1,2,3], [4,5,6]])\n",
    "print(a[0]) # zwraca [1 2 3]\n",
    "\n",
    "print(a[1, 1]) # zwraca 5\n",
    "#równoważny zapis \n",
    "# print(a[1][1])"
   ]
  },
  {
   "cell_type": "markdown",
   "metadata": {
    "slideshow": {
     "slide_type": "subslide"
    }
   },
   "source": [
    "Także możemy zrobić array slicing, która ogólnie wygląda tak a[l, r] i zwraca elementy z zakresu [l, r) :"
   ]
  },
  {
   "cell_type": "code",
   "execution_count": 370,
   "metadata": {
    "slideshow": {
     "slide_type": "fragment"
    }
   },
   "outputs": [
    {
     "name": "stdout",
     "output_type": "stream",
     "text": [
      "[[ 8  9 10 11]\n",
      " [12 13 14 15]\n",
      " [16 17 18 19]]\n"
     ]
    }
   ],
   "source": [
    "a = np.array([[ 0,  1,  2,  3], # 0\n",
    "              [ 4,  5,  6,  7], # 1\n",
    "              [ 8,  9, 10, 11], # 2\n",
    "              [12, 13, 14, 15], # 3\n",
    "              [16, 17, 18, 19]]) # 4\n",
    "               #0  #1  #2  #3\n",
    "    \n",
    "print(a[2:]) #zwraca wiersze od indeksu 2 do końca"
   ]
  },
  {
   "cell_type": "code",
   "execution_count": 371,
   "metadata": {
    "slideshow": {
     "slide_type": "subslide"
    }
   },
   "outputs": [
    {
     "name": "stdout",
     "output_type": "stream",
     "text": [
      "[[0 1 2 3]\n",
      " [4 5 6 7]]\n"
     ]
    }
   ],
   "source": [
    "print(a[:2]) #zwraca wiersze od indeksu 0 do 2 wyłącznie"
   ]
  },
  {
   "cell_type": "code",
   "execution_count": 372,
   "metadata": {
    "slideshow": {
     "slide_type": "fragment"
    }
   },
   "outputs": [
    {
     "name": "stdout",
     "output_type": "stream",
     "text": [
      "[[ 8  9 10 11]\n",
      " [12 13 14 15]]\n"
     ]
    }
   ],
   "source": [
    "print(a[2:4]) #zauważmy że żeby dostać jeszcze ostatni wiersz musimy podać a[2:5]"
   ]
  },
  {
   "cell_type": "code",
   "execution_count": 373,
   "metadata": {
    "slideshow": {
     "slide_type": "fragment"
    }
   },
   "outputs": [
    {
     "name": "stdout",
     "output_type": "stream",
     "text": [
      "[[ 9 10]\n",
      " [13 14]]\n"
     ]
    }
   ],
   "source": [
    "print(a[2:4, 1:3])\n",
    "#równoważne z\n",
    "# b = a[2:4]\n",
    "# print(b[:, 1:3]) # b[:] zwraca wszystkie wiersze"
   ]
  },
  {
   "cell_type": "code",
   "execution_count": 374,
   "metadata": {
    "slideshow": {
     "slide_type": "fragment"
    }
   },
   "outputs": [
    {
     "name": "stdout",
     "output_type": "stream",
     "text": [
      "[ 2  6 10 14 18]\n"
     ]
    }
   ],
   "source": [
    "print(a[:, 2]) #z każdego wiersza wybiera element o indeksie 2 "
   ]
  },
  {
   "cell_type": "markdown",
   "metadata": {
    "slideshow": {
     "slide_type": "subslide"
    }
   },
   "source": [
    "Można także używać booli jako maskę dla wybierania elementów "
   ]
  },
  {
   "cell_type": "code",
   "execution_count": 375,
   "metadata": {
    "slideshow": {
     "slide_type": "fragment"
    }
   },
   "outputs": [
    {
     "name": "stdout",
     "output_type": "stream",
     "text": [
      "[[ 0  1  2]\n",
      " [ 4  5  6]\n",
      " [ 8  9 10]\n",
      " [12 13 14]\n",
      " [16 17 18]]\n"
     ]
    }
   ],
   "source": [
    "mask = [True, True, True, False]\n",
    "print(a[:, mask])"
   ]
  },
  {
   "cell_type": "markdown",
   "metadata": {
    "slideshow": {
     "slide_type": "subslide"
    }
   },
   "source": [
    "Żeby zobaczyć jakiego rozmiaru jest tablica używamy zmiennej shape, która zwraca `tuple` z wymiarami: "
   ]
  },
  {
   "cell_type": "code",
   "execution_count": 376,
   "metadata": {
    "slideshow": {
     "slide_type": "fragment"
    }
   },
   "outputs": [
    {
     "name": "stdout",
     "output_type": "stream",
     "text": [
      "(5, 4)\n",
      "4\n"
     ]
    }
   ],
   "source": [
    "print(a.shape)\n",
    "print(a.shape[1]) #długość wiersza "
   ]
  },
  {
   "cell_type": "markdown",
   "metadata": {
    "slideshow": {
     "slide_type": "skip"
    }
   },
   "source": [
    "Żeby zmienić wymiary macierzy korzystamy z `np.reshape` <br/>***Uwaga***: ilość elementów do i po zmianie musi być równa\n",
    "<br/>***Uwaga***: używanie \"-1\" znaczy: \"wstaw na to miejsce tyle ile trzeba żeby ilość elementów zgadzała się\" "
   ]
  },
  {
   "cell_type": "code",
   "execution_count": 377,
   "metadata": {
    "slideshow": {
     "slide_type": "subslide"
    }
   },
   "outputs": [
    {
     "name": "stdout",
     "output_type": "stream",
     "text": [
      "[ 0  1  2  3  4  5  6  7  8  9 10 11 12 13 14 15 16 17 18 19] \n",
      "\n",
      "[[ 0  1  2  3  4]\n",
      " [ 5  6  7  8  9]\n",
      " [10 11 12 13 14]\n",
      " [15 16 17 18 19]] \n",
      "\n",
      "[[ 0  1  2  3  4  5  6  7  8  9]\n",
      " [10 11 12 13 14 15 16 17 18 19]] \n",
      "\n"
     ]
    }
   ],
   "source": [
    "# macierz a jest z poprzedniago przykładu\n",
    "print(a.reshape(-1), '\\n') # a.flatten()\n",
    "print(a.reshape(4,5), '\\n')\n",
    "print(a.reshape(2,10), '\\n')\n",
    "# print(a.reshape(2,8)) #ValueError: cannot reshape array of size 20 into shape (2,8)"
   ]
  },
  {
   "cell_type": "code",
   "execution_count": 378,
   "metadata": {
    "slideshow": {
     "slide_type": "fragment"
    }
   },
   "outputs": [
    {
     "name": "stdout",
     "output_type": "stream",
     "text": [
      "(300, 32, 32, 3) \n",
      "\n",
      "(300, 3072)\n",
      "(300, 32, 32, 3)\n"
     ]
    }
   ],
   "source": [
    "a = np.ones((300, 32, 32, 3))\n",
    "print(a.shape,'\\n')\n",
    "print(a.reshape(300, -1).shape) # 32*32*3 = 3072\n",
    "print(a.reshape(300, 32, -1, 3).shape)"
   ]
  },
  {
   "cell_type": "markdown",
   "metadata": {
    "slideshow": {
     "slide_type": "subslide"
    }
   },
   "source": [
    "To jest użyteczne do podobnych operacij ([broadcasting](#explanation1), [numpy functions](#npfunc)):"
   ]
  },
  {
   "cell_type": "code",
   "execution_count": 379,
   "metadata": {
    "slideshow": {
     "slide_type": "fragment"
    }
   },
   "outputs": [
    {
     "name": "stdout",
     "output_type": "stream",
     "text": [
      "[[[-0.6448891   0.95988904 -0.79272592 -0.06970128]\n",
      "  [-0.97003444  0.92054643 -0.65928497 -0.47546803]\n",
      "  [-0.15718798  1.3399144  -0.71455218  0.01069881]]\n",
      "\n",
      " [[-1.08111028  0.73841436  0.28729008 -0.08504842]\n",
      "  [-0.56170564  1.31879558 -0.54805955 -0.55464583]\n",
      "  [ 0.59014749 -2.37489079  0.40210844 -0.41835986]]] \n",
      "\n",
      "[[[ True False  True  True]\n",
      "  [ True False  True  True]\n",
      "  [ True False  True False]]\n",
      "\n",
      " [[ True False False  True]\n",
      "  [ True False  True  True]\n",
      "  [False  True False  True]]] \n",
      "\n",
      "[[[0.         0.95988904 0.         0.        ]\n",
      "  [0.         0.92054643 0.         0.        ]\n",
      "  [0.         1.3399144  0.         0.01069881]]\n",
      "\n",
      " [[0.         0.73841436 0.28729008 0.        ]\n",
      "  [0.         1.31879558 0.         0.        ]\n",
      "  [0.59014749 0.         0.40210844 0.        ]]]\n"
     ]
    }
   ],
   "source": [
    "a = np.random.randn(2,3,4) # numpy functions\n",
    "print(a,'\\n')\n",
    "print(a<0,'\\n') # broadcasting\n",
    "a[a<0] = 0\n",
    "print(a)"
   ]
  },
  {
   "cell_type": "markdown",
   "metadata": {
    "slideshow": {
     "slide_type": "subslide"
    }
   },
   "source": [
    "Możemy wykorzystywać `list` albo `np.array` jak listę elementów do pobrania: "
   ]
  },
  {
   "cell_type": "code",
   "execution_count": 380,
   "metadata": {
    "slideshow": {
     "slide_type": "fragment"
    }
   },
   "outputs": [
    {
     "name": "stdout",
     "output_type": "stream",
     "text": [
      "[[ 0  1  3]\n",
      " [ 4  5  7]\n",
      " [ 8  9 11]\n",
      " [12 13 15]\n",
      " [16 17 19]] \n",
      "\n",
      "[[ 0  1  2  3]\n",
      " [ 8  9 10 11]\n",
      " [12 13 14 15]]\n"
     ]
    }
   ],
   "source": [
    "a = np.array([[ 0,  1,  2,  3],\n",
    "              [ 4,  5,  6,  7],\n",
    "              [ 8,  9, 10, 11],\n",
    "              [12, 13, 14, 15],\n",
    "              [16, 17, 18, 19]])\n",
    "b = np.array([0,2,3])\n",
    "print(a[:, [0,1,3]],'\\n') #pobiera z każdego wiersza elementy o indeksach 0,2,3\n",
    "print(a[b, :]) # bierze wszystkie elementy z wierszów o indeksach 0,2,3"
   ]
  },
  {
   "cell_type": "code",
   "execution_count": 381,
   "metadata": {
    "slideshow": {
     "slide_type": "subslide"
    }
   },
   "outputs": [
    {
     "name": "stdout",
     "output_type": "stream",
     "text": [
      "[[ 2  2  2]\n",
      " [ 6  6  6]\n",
      " [10 10 10]\n",
      " [14 14 14]\n",
      " [18 18 18]] \n",
      "\n",
      "[[55  2  2]\n",
      " [ 6  6  6]\n",
      " [10 10 10]\n",
      " [14 14 14]\n",
      " [18 18 18]] \n",
      "\n",
      "[[ 0  1  2  3]\n",
      " [ 4  5  6  7]\n",
      " [ 8  9 10 11]\n",
      " [12 13 14 15]\n",
      " [16 17 18 19]]\n"
     ]
    }
   ],
   "source": [
    "a = np.array([[ 0,  1,  2,  3],\n",
    "              [ 4,  5,  6,  7],\n",
    "              [ 8,  9, 10, 11],\n",
    "              [12, 13, 14, 15],\n",
    "              [16, 17, 18, 19]])\n",
    "\n",
    "# elementy nie muszą być unikalne jak w przykładzie\n",
    "b = a[:, [2,2,2]]\n",
    "print(b, '\\n')\n",
    "\n",
    "# b jest nową tablicą więc wszystkie zmiany b nie wpłyną na a\n",
    "b[0,0] = 55\n",
    "\n",
    "print(b,'\\n')\n",
    "print(a)"
   ]
  },
  {
   "cell_type": "markdown",
   "metadata": {
    "slideshow": {
     "slide_type": "subslide"
    }
   },
   "source": [
    "***Uwaga*** operacja `b = a` nie będzie operacją kopiowania, i `b` zarowno jak i `a` będą wskazywać na tą samą macierz"
   ]
  },
  {
   "cell_type": "code",
   "execution_count": 382,
   "metadata": {
    "scrolled": true,
    "slideshow": {
     "slide_type": "fragment"
    }
   },
   "outputs": [
    {
     "name": "stdout",
     "output_type": "stream",
     "text": [
      "macierz b \n",
      " [ 0 23  2  3  4] \n",
      "\n",
      "macierz a \n",
      " [ 0 23  2  3  4] \n",
      "\n"
     ]
    }
   ],
   "source": [
    "a = np.array(range(5)) # [0 1 2 3 4]\n",
    "b = a\n",
    "b[1] = 23\n",
    "print(\"macierz b\",'\\n', b, '\\n')\n",
    "print(\"macierz a\",'\\n', a, '\\n')"
   ]
  },
  {
   "cell_type": "markdown",
   "metadata": {
    "slideshow": {
     "slide_type": "subslide"
    }
   },
   "source": [
    "Żeby tego uniknąć można użyć funkcji np.copy() "
   ]
  },
  {
   "cell_type": "code",
   "execution_count": 383,
   "metadata": {
    "slideshow": {
     "slide_type": "fragment"
    }
   },
   "outputs": [
    {
     "name": "stdout",
     "output_type": "stream",
     "text": [
      "[0 1 2 3 4]\n"
     ]
    }
   ],
   "source": [
    "a = np.array(range(5)) # [0 1 2 3 4]\n",
    "b = a.copy() # lub np.copy(a)\n",
    "b[0]=10 # b = [10 1 2 3 4]\n",
    "print(a)"
   ]
  },
  {
   "cell_type": "markdown",
   "metadata": {
    "slideshow": {
     "slide_type": "slide"
    }
   },
   "source": [
    "# Numpy broadcsting \n",
    "\n",
    "Broadcasting jest potężnym mechanizmem w Numpy który pozwala wykonywać operacje na macierzach w szybki i zręczny sposób:"
   ]
  },
  {
   "cell_type": "code",
   "execution_count": 384,
   "metadata": {
    "scrolled": false,
    "slideshow": {
     "slide_type": "subslide"
    }
   },
   "outputs": [
    {
     "name": "stdout",
     "output_type": "stream",
     "text": [
      "[[ 1  3  5  7]\n",
      " [ 5  7  9 11]\n",
      " [ 9 11 13 15]\n",
      " [13 15 17 19]\n",
      " [17 19 21 23]] \n",
      "\n",
      "[[ 0  1  2  3]\n",
      " [ 4  5  6  7]\n",
      " [ 8  9 10 11]\n",
      " [12 13 14 15]\n",
      " [16 17 18 19]] \n",
      "\n"
     ]
    }
   ],
   "source": [
    "a = np.arange(20).reshape(5, 4) #[[ 0  1  2  3]\n",
    "                                   #[ 4  5  6  7]\n",
    "                                   #[ 8  9 10 11]\n",
    "                                   #[12 13 14 15]\n",
    "                                   #[16 17 18 19]]\n",
    "\n",
    "b = np.array([1, 2, 3, 4])\n",
    "\n",
    "a += b # a = a + b\n",
    "print(a, '\\n')\n",
    "a -= b\n",
    "print(a,'\\n')"
   ]
  },
  {
   "cell_type": "markdown",
   "metadata": {
    "slideshow": {
     "slide_type": "subslide"
    }
   },
   "source": [
    "operacja `a += b` może być jawnie zapisana w ten sposób:"
   ]
  },
  {
   "cell_type": "code",
   "execution_count": 385,
   "metadata": {
    "slideshow": {
     "slide_type": "fragment"
    }
   },
   "outputs": [
    {
     "name": "stdout",
     "output_type": "stream",
     "text": [
      "[[ 1  3  5  7]\n",
      " [ 5  7  9 11]\n",
      " [ 9 11 13 15]\n",
      " [13 15 17 19]\n",
      " [17 19 21 23]] \n",
      "\n"
     ]
    }
   ],
   "source": [
    "for i in range(a.shape[0]):\n",
    "    for j in range(a.shape[1]):\n",
    "        a[i, j] += b[j]\n",
    "print(a, '\\n')\n",
    "\n",
    "a -= b"
   ]
  },
  {
   "cell_type": "code",
   "execution_count": 386,
   "metadata": {
    "slideshow": {
     "slide_type": "subslide"
    }
   },
   "outputs": [
    {
     "name": "stdout",
     "output_type": "stream",
     "text": [
      "[[ 0  2  6 12]\n",
      " [ 4 10 18 28]\n",
      " [ 8 18 30 44]\n",
      " [12 26 42 60]\n",
      " [16 34 54 76]] \n",
      "\n",
      "[[ 0  1  2  3]\n",
      " [ 4  5  6  7]\n",
      " [ 8  9 10 11]\n",
      " [12 13 14 15]\n",
      " [16 17 18 19]] \n",
      "\n",
      "[[ 0.          0.5         0.66666667  0.75      ]\n",
      " [ 4.          2.5         2.          1.75      ]\n",
      " [ 8.          4.5         3.33333333  2.75      ]\n",
      " [12.          6.5         4.66666667  3.75      ]\n",
      " [16.          8.5         6.          4.75      ]]\n"
     ]
    }
   ],
   "source": [
    "a *= b\n",
    "print(a, '\\n')\n",
    "a //= b \n",
    "print(a, '\\n')\n",
    "\n",
    "# a /= b # Uwaga w numpy używanie /= dla np.int64(takiego typu są liczby całkowite defaultowo) spowoduje błąd \n",
    "\n",
    "# funkcja np.astype przyjmuje jako argument typ i rzutuje(konwertuje) elementy tablicy na ten typ\n",
    "a = np.arange(20).astype(np.float64).reshape(5, 4) #[[ 0  1  2  3]\n",
    "                                                   #[ 4  5  6  7]\n",
    "                                                   #[ 8  9 10 11]\n",
    "                                                   #[12 13 14 15]\n",
    "                                                   #[16 17 18 19]]\n",
    "\n",
    "a /= b\n",
    "print(a)"
   ]
  },
  {
   "cell_type": "markdown",
   "metadata": {
    "slideshow": {
     "slide_type": "subslide"
    }
   },
   "source": [
    "Można używać broadcast nie tylko dlo wierszy:"
   ]
  },
  {
   "cell_type": "code",
   "execution_count": 387,
   "metadata": {
    "slideshow": {
     "slide_type": "fragment"
    }
   },
   "outputs": [
    {
     "name": "stdout",
     "output_type": "stream",
     "text": [
      "[[ 0  1  2  3]\n",
      " [ 5  6  7  8]\n",
      " [10 11 12 13]\n",
      " [15 16 17 18]\n",
      " [20 21 22 23]]\n"
     ]
    }
   ],
   "source": [
    "a = np.arange(20).reshape(5, 4) #[[ 0  1  2  3]\n",
    "                                #[ 4  5  6  7]\n",
    "                                #[ 8  9 10 11]\n",
    "                                #[12 13 14 15]\n",
    "                                #[16 17 18 19]]\n",
    "                \n",
    "b = np.arange(5).reshape(5,1) #[[0],\n",
    "                              # [1],\n",
    "                              # [2],\n",
    "                              # [3],\n",
    "                              # [4]]\n",
    "\n",
    "a = a + b # do wszystkich elementów pirwszego wiersza(o indeksie 0) będzie dodane 0, do drugiego wiersza 1, ...\n",
    "\n",
    "print(a)"
   ]
  },
  {
   "cell_type": "markdown",
   "metadata": {
    "slideshow": {
     "slide_type": "subslide"
    }
   },
   "source": [
    "***Uwaga*** dla broadcast'u wymiary pierwszej i drugiej macierzy muszą się zgadzać dla osi według ktorej operacja będzie wykonana, np.:"
   ]
  },
  {
   "cell_type": "code",
   "execution_count": 388,
   "metadata": {
    "slideshow": {
     "slide_type": "fragment"
    }
   },
   "outputs": [
    {
     "name": "stdout",
     "output_type": "stream",
     "text": [
      "(5, 4) \n",
      " (5,)\n"
     ]
    },
    {
     "ename": "ValueError",
     "evalue": "operands could not be broadcast together with shapes (5,4) (5,) ",
     "output_type": "error",
     "traceback": [
      "\u001b[0;31m---------------------------------------------------------------------------\u001b[0m",
      "\u001b[0;31mValueError\u001b[0m                                Traceback (most recent call last)",
      "\u001b[0;32m<ipython-input-388-cc14a7d6b83b>\u001b[0m in \u001b[0;36m<module>\u001b[0;34m\u001b[0m\n\u001b[1;32m      3\u001b[0m \u001b[0mprint\u001b[0m\u001b[0;34m(\u001b[0m\u001b[0ma\u001b[0m\u001b[0;34m.\u001b[0m\u001b[0mshape\u001b[0m\u001b[0;34m,\u001b[0m \u001b[0;34m'\\n'\u001b[0m\u001b[0;34m,\u001b[0m \u001b[0mb\u001b[0m\u001b[0;34m.\u001b[0m\u001b[0mshape\u001b[0m\u001b[0;34m)\u001b[0m\u001b[0;34m\u001b[0m\u001b[0;34m\u001b[0m\u001b[0m\n\u001b[1;32m      4\u001b[0m \u001b[0;34m\u001b[0m\u001b[0m\n\u001b[0;32m----> 5\u001b[0;31m \u001b[0ma\u001b[0m \u001b[0;34m=\u001b[0m \u001b[0ma\u001b[0m \u001b[0;34m+\u001b[0m \u001b[0mb\u001b[0m\u001b[0;34m\u001b[0m\u001b[0;34m\u001b[0m\u001b[0m\n\u001b[0m",
      "\u001b[0;31mValueError\u001b[0m: operands could not be broadcast together with shapes (5,4) (5,) "
     ]
    }
   ],
   "source": [
    "a = np.arange(20).reshape(5, 4)\n",
    "b = np.arange(5) # [0 1 2 3 4] \n",
    "print(a.shape, '\\n', b.shape)\n",
    "\n",
    "a = a + b"
   ]
  },
  {
   "cell_type": "markdown",
   "metadata": {
    "slideshow": {
     "slide_type": "subslide"
    }
   },
   "source": [
    "Często potrzebujemy dodać/pomnożyć/.. każdy element przez skalar, w numpy nie potrzebujemy dla tego żadnej pętli, również możemy użyć operatorów porównywania, jak w jednym z poprzednich przykładów ([wróć do przykładu](#example1)): "
   ]
  },
  {
   "cell_type": "code",
   "execution_count": 389,
   "metadata": {
    "slideshow": {
     "slide_type": "fragment"
    }
   },
   "outputs": [
    {
     "name": "stdout",
     "output_type": "stream",
     "text": [
      "[[2. 2.]\n",
      " [2. 2.]\n",
      " [2. 2.]] \n",
      "\n",
      "[[0.33333333 0.33333333]\n",
      " [0.33333333 0.33333333]\n",
      " [0.33333333 0.33333333]] \n",
      "\n",
      "[[0.33333333 1.33333333]\n",
      " [0.33333333 1.33333333]\n",
      " [0.33333333 1.33333333]] \n",
      "\n",
      "[[False  True]\n",
      " [False  True]\n",
      " [False  True]]\n"
     ]
    }
   ],
   "source": [
    "a = np.zeros((3,2)) #[[0. 0.]\n",
    "                    #[0. 0.]\n",
    "                    #[0. 0.]]\n",
    "a += 2\n",
    "print(a,'\\n')\n",
    "a /= 6\n",
    "print(a,'\\n')\n",
    "\n",
    "a += [0,1] #także broadcasting działa na list'ach, ale polecam używać np.array, żeby nie dostać problemów z kastowaniem typów \n",
    "print(a, '\\n')\n",
    "\n",
    "b = a > 1\n",
    "print(b)"
   ]
  },
  {
   "cell_type": "markdown",
   "metadata": {
    "slideshow": {
     "slide_type": "slide"
    }
   },
   "source": [
    "# Numpy functions "
   ]
  },
  {
   "cell_type": "markdown",
   "metadata": {
    "slideshow": {
     "slide_type": "subslide"
    }
   },
   "source": [
    "### numpy.random ([link to documentation](https://docs.scipy.org/doc/numpy/reference/routines.random.html)) "
   ]
  },
  {
   "cell_type": "code",
   "execution_count": 390,
   "metadata": {
    "slideshow": {
     "slide_type": "fragment"
    }
   },
   "outputs": [
    {
     "name": "stdout",
     "output_type": "stream",
     "text": [
      "[[[0.95654898 0.51772985]\n",
      "  [0.30443877 0.66300355]\n",
      "  [0.5346792  0.42737866]\n",
      "  [0.01869313 0.71600861]]\n",
      "\n",
      " [[0.58592717 0.25488915]\n",
      "  [0.18962555 0.69029206]\n",
      "  [0.65188959 0.87090875]\n",
      "  [0.92873514 0.33361594]]\n",
      "\n",
      " [[0.8189228  0.62384474]\n",
      "  [0.94660751 0.16215483]\n",
      "  [0.92421993 0.29920311]\n",
      "  [0.39280279 0.40642805]]]\n"
     ]
    }
   ],
   "source": [
    "print(np.random.rand(3,4,2)) # randomowe liczby z zakresu 0..1"
   ]
  },
  {
   "cell_type": "code",
   "execution_count": 391,
   "metadata": {
    "slideshow": {
     "slide_type": "subslide"
    }
   },
   "outputs": [
    {
     "name": "stdout",
     "output_type": "stream",
     "text": [
      "[[[ 0.12585249 -0.55134048]\n",
      "  [ 0.25200496 -1.50630257]\n",
      "  [-0.01470187 -0.05461041]\n",
      "  [ 0.74866057 -0.83361785]]\n",
      "\n",
      " [[-0.27943147  0.0164368 ]\n",
      "  [ 0.63081656  0.17151957]\n",
      "  [-0.61570685 -0.15984513]\n",
      "  [ 1.76090931 -0.36132852]]\n",
      "\n",
      " [[ 1.15908714 -0.60243523]\n",
      "  [ 0.00741905 -0.80679109]\n",
      "  [ 0.10368366 -0.41862015]\n",
      "  [-0.35824732  0.10183025]]]\n"
     ]
    }
   ],
   "source": [
    "print(np.random.randn(3, 4, 2)) # liczby z \"standard normal distribution\""
   ]
  },
  {
   "cell_type": "code",
   "execution_count": 4,
   "metadata": {
    "slideshow": {
     "slide_type": "subslide"
    }
   },
   "outputs": [
    {
     "name": "stdout",
     "output_type": "stream",
     "text": [
      "[[[-1.16558105 -3.53384009]\n",
      "  [-5.48569627 -4.24534522]\n",
      "  [-0.27918469 -0.25560944]\n",
      "  [-5.48176218  0.70471729]]\n",
      "\n",
      " [[-3.39664205 -4.94766537]\n",
      "  [-5.26482679 -2.45064224]\n",
      "  [-3.69986093 -0.30885886]\n",
      "  [ 0.53846226 -0.21632664]]\n",
      "\n",
      " [[-5.74475269  0.42878536]\n",
      "  [-0.61880348 -0.66429102]\n",
      "  [-5.15524829 -1.4232551 ]\n",
      "  [-2.83124314 -4.03850157]]]\n"
     ]
    }
   ],
   "source": [
    "low, high = (-6, 1)\n",
    "shape = (3,4,2)\n",
    "print(np.random.uniform(low, high, shape)) # \"uniform distribution\" z zakresu od low do high, z podanym shape typu tuple"
   ]
  },
  {
   "cell_type": "markdown",
   "metadata": {
    "slideshow": {
     "slide_type": "subslide"
    }
   },
   "source": [
    "### Obliczenie [\"standard deviation\"](https://docs.scipy.org/doc/numpy/reference/generated/numpy.std.html) i [średniej](https://docs.scipy.org/doc/numpy-1.15.1/reference/generated/numpy.mean.html) "
   ]
  },
  {
   "cell_type": "code",
   "execution_count": 393,
   "metadata": {
    "slideshow": {
     "slide_type": "fragment"
    }
   },
   "outputs": [
    {
     "name": "stdout",
     "output_type": "stream",
     "text": [
      "[[-0.04117204 -0.99369902]\n",
      " [ 0.80944333 -0.80993573]\n",
      " [-0.64197097  0.47084097]] \n",
      "\n",
      "-0.2010822418751138 \n",
      "\n",
      "[ 0.04210011 -0.44426459] \n",
      "\n",
      "[-5.17435530e-01 -2.46196812e-04 -8.55649991e-02] \n",
      "\n",
      "0.6697687179800678 \n",
      "\n",
      "[0.59545588 0.65141174] \n",
      "\n",
      "[0.47626349 0.80968953 0.55640597] \n",
      "\n"
     ]
    }
   ],
   "source": [
    "a = np.random.uniform(-1, 1, (3,2))\n",
    "print(a,'\\n')\n",
    "\n",
    "print(np.mean(a),'\\n') # a.mean()\n",
    "print(np.mean(a, axis=0), '\\n') # liczy śriednią dla każdej kolumny \n",
    "print(np.mean(a, axis=1), '\\n') # liczy śriednią dla każdego wiersza \n",
    "\n",
    "# podobnie działa std\n",
    "print(np.std(a), '\\n')\n",
    "print(np.std(a, axis=0), '\\n')\n",
    "print(np.std(a, axis=1),'\\n')"
   ]
  },
  {
   "cell_type": "markdown",
   "metadata": {
    "slideshow": {
     "slide_type": "subslide"
    }
   },
   "source": [
    "### Numpy linear algebra [numpy.linalg](https://docs.scipy.org/doc/numpy/reference/routines.linalg.html)"
   ]
  },
  {
   "cell_type": "code",
   "execution_count": 5,
   "metadata": {
    "slideshow": {
     "slide_type": "fragment"
    }
   },
   "outputs": [
    {
     "name": "stdout",
     "output_type": "stream",
     "text": [
      "[[-1.   1.5]\n",
      " [ 1.  -1. ]] \n",
      "\n",
      "-2.0 \n",
      "\n",
      "4.58257569495584 \n",
      "\n",
      "[2.82842712 3.60555128] \n",
      "\n",
      "[3.60555128 2.82842712] \n",
      "\n"
     ]
    }
   ],
   "source": [
    "import numpy.linalg as linalg\n",
    "\n",
    "a = np.array([[2,3],\n",
    "              [2,2]])\n",
    "\n",
    "print(linalg.inv(a), '\\n') # macierz odwrotna Uwaga: wyrzuca błąd kiedy det == 0\n",
    "print(linalg.det(a), '\\n') # wyznacznik\n",
    "print(linalg.norm(a), '\\n') # norma\n",
    "print(linalg.norm(a, axis=0), '\\n') # norma z kolumn jako wektorów \n",
    "print(linalg.norm(a, axis=1), '\\n') # norma z wierszy jako wektorów"
   ]
  },
  {
   "cell_type": "markdown",
   "metadata": {
    "slideshow": {
     "slide_type": "subslide"
    }
   },
   "source": [
    "### Operacje na macierzach "
   ]
  },
  {
   "cell_type": "code",
   "execution_count": 395,
   "metadata": {
    "slideshow": {
     "slide_type": "fragment"
    }
   },
   "outputs": [
    {
     "name": "stdout",
     "output_type": "stream",
     "text": [
      "[[0 1 2]\n",
      " [3 4 5]] \n",
      "\n",
      " [[0 1]\n",
      " [2 3]\n",
      " [4 5]] \n",
      "\n",
      "------------------------\n",
      "[[10 13]\n",
      " [28 40]] \n",
      "\n",
      "[[10 13]\n",
      " [28 40]] \n",
      "\n",
      "[[10 13]\n",
      " [28 40]] \n",
      "\n",
      "------------------------\n",
      "[[ 0  1  4]\n",
      " [ 9 16 25]] \n",
      "\n",
      "[[0 3]\n",
      " [1 4]\n",
      " [2 5]] \n",
      "\n"
     ]
    }
   ],
   "source": [
    "a = np.arange(6).reshape(2,3)\n",
    "b = np.arange(6).reshape(3,2)\n",
    "print(a,'\\n\\n', b, '\\n')\n",
    "\n",
    "print(\"------------------------\")\n",
    "print(np.dot(a,b), '\\n') # mnożenie macierzowe\n",
    "print(a.dot(b), '\\n') # inna forma\n",
    "print(a @ b, '\\n') #inna forma\n",
    "print(\"------------------------\")\n",
    "\n",
    "#Uwaga \n",
    "print(a*a, '\\n') # element-wise multiplication czyli \n",
    "                 # result[i,j] = first_matrix[i,j] * second_matrix[i,j] (broadcasting mnożenia)\n",
    "#-------------------------------\n",
    "\n",
    "print(a.T, '\\n') # transponowanie macierzy \n"
   ]
  },
  {
   "cell_type": "code",
   "execution_count": 396,
   "metadata": {
    "slideshow": {
     "slide_type": "subslide"
    }
   },
   "outputs": [
    {
     "name": "stdout",
     "output_type": "stream",
     "text": [
      "(256, 128, 3, 300) \n",
      "\n",
      "(300, 256, 128, 3)\n"
     ]
    }
   ],
   "source": [
    "a = np.ones((256, 128, 3, 300))\n",
    "print(a.shape, '\\n')\n",
    "print(a.transpose(3, 0, 1, 2).shape) # lub a.transpose(-1, 0, 1, 2).shape #Uwaga: \"-1, -2..\" to są indeksy od pońca\n",
    "                                                                          # czyli -1 == 3, -2 == 2, -3 == 1, -4 == 0"
   ]
  },
  {
   "cell_type": "markdown",
   "metadata": {
    "slideshow": {
     "slide_type": "subslide"
    }
   },
   "source": [
    "### Inne użyteczne funkcje:"
   ]
  },
  {
   "cell_type": "code",
   "execution_count": 397,
   "metadata": {
    "slideshow": {
     "slide_type": "fragment"
    }
   },
   "outputs": [
    {
     "name": "stdout",
     "output_type": "stream",
     "text": [
      "[[0 1]\n",
      " [2 3]\n",
      " [4 5]] \n",
      "\n",
      "[[  1.           2.71828183]\n",
      " [  7.3890561   20.08553692]\n",
      " [ 54.59815003 148.4131591 ]] \n",
      "\n",
      "[[ 0.          0.84147098]\n",
      " [ 0.90929743  0.14112001]\n",
      " [-0.7568025  -0.95892427]] \n",
      "\n",
      "15 \n",
      "\n",
      "[1 5 9] \n",
      "\n",
      "[6 9] \n",
      "\n"
     ]
    }
   ],
   "source": [
    "a = np.arange(6).reshape(3,2)\n",
    "print(a, '\\n')\n",
    "print(np.exp(a), '\\n') # e^x dla każdego elementu z a\n",
    "print(np.sin(a), '\\n') # sin(x) dla każdego elementu z a\n",
    "print(np.sum(a), '\\n') # suma tablicy\n",
    "print(np.sum(a, axis=1), '\\n') # suma wierszy\n",
    "print(np.sum(a, axis=0), '\\n') # suma kolumn"
   ]
  },
  {
   "cell_type": "markdown",
   "metadata": {
    "slideshow": {
     "slide_type": "subslide"
    }
   },
   "source": [
    "#### Przykład funkcja softmax i computationaly stable softmax"
   ]
  },
  {
   "cell_type": "code",
   "execution_count": 398,
   "metadata": {
    "slideshow": {
     "slide_type": "fragment"
    }
   },
   "outputs": [
    {
     "name": "stdout",
     "output_type": "stream",
     "text": [
      "[[       nan        nan]\n",
      " [0.26894142 0.73105858]] \n",
      "\n",
      "[[0.26894142 0.73105858]\n",
      " [0.26894142 0.73105858]] \n",
      "\n"
     ]
    },
    {
     "name": "stderr",
     "output_type": "stream",
     "text": [
      "/anaconda3/lib/python3.6/site-packages/ipykernel_launcher.py:5: RuntimeWarning: overflow encountered in exp\n",
      "  \"\"\"\n",
      "/anaconda3/lib/python3.6/site-packages/ipykernel_launcher.py:6: RuntimeWarning: invalid value encountered in true_divide\n",
      "  \n"
     ]
    }
   ],
   "source": [
    "# problem tej funkcji polega na tym że kiedy zrobimy operacje np.exp na dużych liczbach ona może przyjąć\n",
    "# wartość np.inf, czyli bardzo duża liczba np.  np.exp(1000), lub np.nan(not a number) jak podzielimy coś przez np.inf\n",
    "# print(np.exp(1000), '\\n')\n",
    "def softmax(a):\n",
    "    a_exp = np.exp(a)\n",
    "    softmax = a_exp / np.sum(a_exp, axis=1, keepdims=True) # lub\n",
    "    # softmax = a_exp / np.sum(a_exp, axis=1).reshape(-1, 1)\n",
    "    print(softmax, '\\n')\n",
    "\n",
    "def stable_softmax(a):\n",
    "    a_exp = np.exp( a - np.max(a, axis=1, keepdims=True) ) # lub\n",
    "    # a_exp = np.exp( a - np.max(a, axis=1).reshape(-1,1))\n",
    "    softmax = a_exp / np.sum(a_exp, axis=1, keepdims=True) #lub\n",
    "    # softmax = a_exp / np.sum(a_exp, axis=1).reshape(-1, 1)\n",
    "    print(softmax, '\\n')\n",
    "    \n",
    "\n",
    "a = np.array([[1000, 1001], [1,2]])\n",
    "softmax(a)\n",
    "stable_softmax(a)"
   ]
  }
 ],
 "metadata": {
  "celltoolbar": "Slideshow",
  "kernelspec": {
   "display_name": "Python 3",
   "language": "python",
   "name": "python3"
  },
  "language_info": {
   "codemirror_mode": {
    "name": "ipython",
    "version": 3
   },
   "file_extension": ".py",
   "mimetype": "text/x-python",
   "name": "python",
   "nbconvert_exporter": "python",
   "pygments_lexer": "ipython3",
   "version": "3.7.5"
  }
 },
 "nbformat": 4,
 "nbformat_minor": 2
}
