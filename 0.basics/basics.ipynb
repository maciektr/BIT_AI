{
 "cells": [
  {
   "cell_type": "markdown",
   "metadata": {
    "slideshow": {
     "slide_type": "slide"
    }
   },
   "source": [
    "# BIT AI\n",
    "<img src=\"./img/meme1.jpg\">"
   ]
  },
  {
   "cell_type": "markdown",
   "metadata": {
    "slideshow": {
     "slide_type": "slide"
    }
   },
   "source": [
    "## Getting started\n",
    "---\n",
    "First off all, you need to set up environment for **creating** and **training** your models,\n",
    "so let's do it!\n",
    "\n",
    "**WARNING**: I recomend you to use **unix-based system** (Ubuntu, Mint, Fedora, MacOS etc.)\n",
    "\n",
    "If you are ready, simply click *Ctrl+Alt+T* to open the terminal\n"
   ]
  },
  {
   "cell_type": "markdown",
   "metadata": {
    "slideshow": {
     "slide_type": "slide"
    }
   },
   "source": [
    "#### Check your python version, simply type in terminal:\n",
    "\n",
    "---\n",
    "\n",
    "```\n",
    "    $ python3\n",
    "```"
   ]
  },
  {
   "cell_type": "markdown",
   "metadata": {
    "slideshow": {
     "slide_type": "subslide"
    }
   },
   "source": [
    "You should see sometihng like this:\n",
    "\n",
    "```\n",
    "Python 3.7.3 (default, Aug 20 2019, 17:04:43) \n",
    "[GCC 8.3.0] on linux\n",
    "Type \"help\", \"copyright\", \"credits\" or \"license\" for more \n",
    "information.\n",
    ">>> \n",
    "```"
   ]
  },
  {
   "cell_type": "markdown",
   "metadata": {
    "slideshow": {
     "slide_type": "subslide"
    }
   },
   "source": [
    "#### If your version of *Python* is 3 or higher you can install **pip** module\n",
    "---\n",
    "\n",
    "```\n",
    "    $ sudo apt-get install python3-pip \n",
    "\n",
    "```\n",
    "\n",
    "Now you can use pip to install *Python* modules, but first clone BIT_AI github repository\n",
    "\n",
    "```\n",
    "    $ git clone https://github.com/AGH/BIT_AI\n",
    "    $ cd BIT_AI\n",
    "```"
   ]
  },
  {
   "cell_type": "markdown",
   "metadata": {
    "slideshow": {
     "slide_type": "slide"
    }
   },
   "source": [
    "#### Great! Now you are ready to install necessary *Python* modules\n",
    "---\n",
    "Type in terminal\n",
    "```\n",
    "    $ python3 -m pip install -r requirements.txt\n",
    "```\n",
    "\n",
    "Check if everything is correct, try to import: *numpy*, *tensorflow*, *matplotlib*, *sklearn*"
   ]
  },
  {
   "cell_type": "markdown",
   "metadata": {
    "slideshow": {
     "slide_type": "slide"
    }
   },
   "source": [
    "#### Now let's install jupyter!\n",
    "---\n",
    "```{bash}\n",
    "    $ sudo apt-get install jupyter\n",
    "```\n",
    "\n",
    "And of course you should check if jupyter works\n",
    "\n",
    "```{bash}\n",
    "    $ jupyter notebook\n",
    "```\n",
    "**Hint** Type *Ctrl+c* to stop jupyter server :)"
   ]
  },
  {
   "cell_type": "markdown",
   "metadata": {
    "slideshow": {
     "slide_type": "slide"
    }
   },
   "source": [
    "#### Another way to use jupyter notebook is docker\n",
    "---\n",
    "\n",
    "First time:\n",
    "```{bash}\n",
    "$ docker run -it -p port_on_host:8888 --name container_name jupyter/scipy-notebook\n",
    "```\n",
    "\n",
    "Otherwise:\n",
    "```\n",
    "  $ docker start -i container_name\n",
    "```\n",
    "\n",
    "to enter notebook go to browser and type http://localhost:$<port>$/?token=$<token>$"
   ]
  },
  {
   "cell_type": "code",
   "execution_count": 6,
   "metadata": {
    "scrolled": false,
    "slideshow": {
     "slide_type": "subslide"
    }
   },
   "outputs": [],
   "source": [
    "import numpy as np\n",
    "\n",
    "import matplotlib as mpl\n",
    "import matplotlib.pyplot as plt\n",
    "\n",
    "import tensorflow as tf\n",
    "\n",
    "import warnings\n",
    "warnings.filterwarnings('ignore')"
   ]
  },
  {
   "cell_type": "code",
   "execution_count": 8,
   "metadata": {
    "slideshow": {
     "slide_type": "subslide"
    }
   },
   "outputs": [
    {
     "data": {
      "text/plain": [
       "array([[[0., 0., 0.],\n",
       "        [0., 0., 0.]]])"
      ]
     },
     "execution_count": 8,
     "metadata": {},
     "output_type": "execute_result"
    }
   ],
   "source": [
    "arr = np.zeros((1,2,3))\n",
    "arr"
   ]
  },
  {
   "cell_type": "code",
   "execution_count": 6,
   "metadata": {
    "scrolled": true,
    "slideshow": {
     "slide_type": "subslide"
    }
   },
   "outputs": [
    {
     "data": {
      "image/png": "[encoded data removed]",
      "text/plain": [
       "<Figure size 432x288 with 1 Axes>"
      ]
     },
     "metadata": {
      "needs_background": "light"
     },
     "output_type": "display_data"
    }
   ],
   "source": [
    "x = np.linspace(-1.4, 1.4, 30)\n",
    "plt.plot(x, x, 'g--', x, x**2, 'r:', x, x**3, 'b^')\n",
    "plt.show()"
   ]
  },
  {
   "cell_type": "markdown",
   "metadata": {
    "slideshow": {
     "slide_type": "slide"
    }
   },
   "source": [
    "<img src=\"./img/meme4.jpg\">"
   ]
  },
  {
   "cell_type": "markdown",
   "metadata": {
    "slideshow": {
     "slide_type": "slide"
    }
   },
   "source": [
    "## That's all! You are ready to learn some **Machine Learning**!\n"
   ]
  }
 ],
 "metadata": {
  "celltoolbar": "Slideshow",
  "kernelspec": {
   "display_name": "Python 3",
   "language": "python",
   "name": "python3"
  },
  "language_info": {
   "codemirror_mode": {
    "name": "ipython",
    "version": 3
   },
   "file_extension": ".py",
   "mimetype": "text/x-python",
   "name": "python",
   "nbconvert_exporter": "python",
   "pygments_lexer": "ipython3",
   "version": "3.7.5rc1"
  }
 },
 "nbformat": 4,
 "nbformat_minor": 2
}
